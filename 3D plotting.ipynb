{
 "cells": [
  {
   "cell_type": "code",
   "execution_count": 25,
   "id": "433c2035-e1d8-471d-92ac-6a6e7ea94ef9",
   "metadata": {},
   "outputs": [],
   "source": [
    "import warnings\n",
    "warnings.filterwarnings('ignore')\n",
    "import geopandas as gpd\n",
    "import osmnx as ox\n",
    "import pydeck as pdk"
   ]
  },
  {
   "cell_type": "code",
   "execution_count": 27,
   "id": "804dbfaf-ef93-4adb-8532-5c168d5a4b45",
   "metadata": {},
   "outputs": [],
   "source": [
    "gdf = gpd.read_file('C:/Users/ASUS/Downloads/epuletmagassag.geojson')"
   ]
  },
  {
   "cell_type": "code",
   "execution_count": 29,
   "id": "f5b74e3e-8ffc-4e63-a92e-25b59cf4cc67",
   "metadata": {},
   "outputs": [
    {
     "data": {
      "text/plain": [
       "352845"
      ]
     },
     "execution_count": 29,
     "metadata": {},
     "output_type": "execute_result"
    }
   ],
   "source": [
    "len(gdf)"
   ]
  },
  {
   "cell_type": "code",
   "execution_count": 35,
   "id": "6dd4592b-0be8-4b65-be83-e5f5490e4ccf",
   "metadata": {},
   "outputs": [
    {
     "data": {
      "text/html": [
       "<div>\n",
       "<style scoped>\n",
       "    .dataframe tbody tr th:only-of-type {\n",
       "        vertical-align: middle;\n",
       "    }\n",
       "\n",
       "    .dataframe tbody tr th {\n",
       "        vertical-align: top;\n",
       "    }\n",
       "\n",
       "    .dataframe thead th {\n",
       "        text-align: right;\n",
       "    }\n",
       "</style>\n",
       "<table border=\"1\" class=\"dataframe\">\n",
       "  <thead>\n",
       "    <tr style=\"text-align: right;\">\n",
       "      <th></th>\n",
       "      <th>fid</th>\n",
       "      <th>osm_id</th>\n",
       "      <th>code</th>\n",
       "      <th>fclass</th>\n",
       "      <th>name</th>\n",
       "      <th>type</th>\n",
       "      <th>fid_2</th>\n",
       "      <th>DN</th>\n",
       "      <th>geometry</th>\n",
       "    </tr>\n",
       "  </thead>\n",
       "  <tbody>\n",
       "    <tr>\n",
       "      <th>0</th>\n",
       "      <td>1</td>\n",
       "      <td>15092527</td>\n",
       "      <td>1500</td>\n",
       "      <td>building</td>\n",
       "      <td>None</td>\n",
       "      <td>parking</td>\n",
       "      <td>264141</td>\n",
       "      <td>9</td>\n",
       "      <td>POLYGON ((19.01604 47.40561, 19.01728 47.40612...</td>\n",
       "    </tr>\n",
       "    <tr>\n",
       "      <th>1</th>\n",
       "      <td>1</td>\n",
       "      <td>15092527</td>\n",
       "      <td>1500</td>\n",
       "      <td>building</td>\n",
       "      <td>None</td>\n",
       "      <td>parking</td>\n",
       "      <td>264128</td>\n",
       "      <td>10</td>\n",
       "      <td>POLYGON ((19.01604 47.40561, 19.01728 47.40612...</td>\n",
       "    </tr>\n",
       "    <tr>\n",
       "      <th>2</th>\n",
       "      <td>1</td>\n",
       "      <td>15092527</td>\n",
       "      <td>1500</td>\n",
       "      <td>building</td>\n",
       "      <td>None</td>\n",
       "      <td>parking</td>\n",
       "      <td>263879</td>\n",
       "      <td>10</td>\n",
       "      <td>POLYGON ((19.01604 47.40561, 19.01728 47.40612...</td>\n",
       "    </tr>\n",
       "    <tr>\n",
       "      <th>3</th>\n",
       "      <td>1</td>\n",
       "      <td>15092527</td>\n",
       "      <td>1500</td>\n",
       "      <td>building</td>\n",
       "      <td>None</td>\n",
       "      <td>parking</td>\n",
       "      <td>263849</td>\n",
       "      <td>9</td>\n",
       "      <td>POLYGON ((19.01604 47.40561, 19.01728 47.40612...</td>\n",
       "    </tr>\n",
       "    <tr>\n",
       "      <th>4</th>\n",
       "      <td>1</td>\n",
       "      <td>15092527</td>\n",
       "      <td>1500</td>\n",
       "      <td>building</td>\n",
       "      <td>None</td>\n",
       "      <td>parking</td>\n",
       "      <td>263880</td>\n",
       "      <td>9</td>\n",
       "      <td>POLYGON ((19.01604 47.40561, 19.01728 47.40612...</td>\n",
       "    </tr>\n",
       "  </tbody>\n",
       "</table>\n",
       "</div>"
      ],
      "text/plain": [
       "   fid    osm_id  code    fclass  name     type   fid_2  DN  \\\n",
       "0    1  15092527  1500  building  None  parking  264141   9   \n",
       "1    1  15092527  1500  building  None  parking  264128  10   \n",
       "2    1  15092527  1500  building  None  parking  263879  10   \n",
       "3    1  15092527  1500  building  None  parking  263849   9   \n",
       "4    1  15092527  1500  building  None  parking  263880   9   \n",
       "\n",
       "                                            geometry  \n",
       "0  POLYGON ((19.01604 47.40561, 19.01728 47.40612...  \n",
       "1  POLYGON ((19.01604 47.40561, 19.01728 47.40612...  \n",
       "2  POLYGON ((19.01604 47.40561, 19.01728 47.40612...  \n",
       "3  POLYGON ((19.01604 47.40561, 19.01728 47.40612...  \n",
       "4  POLYGON ((19.01604 47.40561, 19.01728 47.40612...  "
      ]
     },
     "execution_count": 35,
     "metadata": {},
     "output_type": "execute_result"
    }
   ],
   "source": [
    "gdf.head()"
   ]
  },
  {
   "cell_type": "code",
   "execution_count": 33,
   "id": "b0295b97-01e9-4556-abde-e8b89a537168",
   "metadata": {},
   "outputs": [
    {
     "data": {
      "text/plain": [
       "<Axes: >"
      ]
     },
     "execution_count": 33,
     "metadata": {},
     "output_type": "execute_result"
    },
    {
     "data": {
      "image/png": "[encoded data removed]",
      "text/plain": [
       "<Figure size 640x480 with 1 Axes>"
      ]
     },
     "metadata": {},
     "output_type": "display_data"
    }
   ],
   "source": [
    "gdf.sample(1).plot()"
   ]
  },
  {
   "cell_type": "code",
   "execution_count": null,
   "id": "484d8ef2-1247-4acc-9580-232dc4e90c21",
   "metadata": {},
   "outputs": [],
   "source": []
  }
 ],
 "metadata": {
  "kernelspec": {
   "display_name": "Python 3 (ipykernel)",
   "language": "python",
   "name": "python3"
  },
  "language_info": {
   "codemirror_mode": {
    "name": "ipython",
    "version": 3
   },
   "file_extension": ".py",
   "mimetype": "text/x-python",
   "name": "python",
   "nbconvert_exporter": "python",
   "pygments_lexer": "ipython3",
   "version": "3.12.4"
  }
 },
 "nbformat": 4,
 "nbformat_minor": 5
}
